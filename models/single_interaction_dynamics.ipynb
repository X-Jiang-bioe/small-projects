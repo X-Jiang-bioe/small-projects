{
 "cells": [
  {
   "cell_type": "markdown",
   "metadata": {},
   "source": [
    "# Single Interaction Dynamics Demonstration"
   ]
  },
  {
   "cell_type": "markdown",
   "metadata": {},
   "source": [
    "The following is a simple demostration of Single Interaction Dynamics(SID) in Gene Regulatory Networks."
   ]
  },
  {
   "cell_type": "code",
   "execution_count": 69,
   "metadata": {},
   "outputs": [],
   "source": [
    "import tellurium as te\n",
    "import utils\n",
    "import numpy as np\n",
    "import matplotlib.pyplot as plt"
   ]
  },
  {
   "cell_type": "code",
   "execution_count": 70,
   "metadata": {},
   "outputs": [],
   "source": [
    "# notebook constants\n",
    "START = 0\n",
    "END = 100\n",
    "NUM_PTS = 100\n",
    "INITIAL_VALUES = [.1, 1]"
   ]
  },
  {
   "cell_type": "code",
   "execution_count": 71,
   "metadata": {},
   "outputs": [],
   "source": [
    "model = '''\n",
    "$X->Y; beta*X;\n",
    "Y-> ; alpha*Y;\n",
    "\n",
    "X = 1; Y = 0;\n",
    "beta = 1;\n",
    "alpha = 0.1;\n",
    "\n",
    "'''\n",
    "\n",
    "r = te.loada(model)\n",
    "m = r.simulate(START, END, NUM_PTS)"
   ]
  },
  {
   "cell_type": "markdown",
   "metadata": {},
   "source": [
    "Assuming constant production (beta) and removal (alpha) rates of Y and constant X, we yield the following graph"
   ]
  },
  {
   "cell_type": "code",
   "execution_count": 72,
   "metadata": {},
   "outputs": [
    {
     "data": {
      "image/png": "[encoded data removed]",
      "text/plain": [
       "<Figure size 432x288 with 1 Axes>"
      ]
     },
     "metadata": {},
     "output_type": "display_data"
    }
   ],
   "source": [
    "r.plot()"
   ]
  },
  {
   "cell_type": "markdown",
   "metadata": {},
   "source": [
    "Here we see the eventual approach to steady state, which coincides with the theoretical result of the ODE of the form: Y' = BX - AY"
   ]
  },
  {
   "cell_type": "markdown",
   "metadata": {},
   "source": [
    "## Response Time"
   ]
  },
  {
   "cell_type": "markdown",
   "metadata": {},
   "source": [
    "From theory, we know that in single interaction dynamics the response time is only dependant on the rate of removal of the protein of interest. We can demonstrate that phenomenon using a set of DOE simulations"
   ]
  },
  {
   "cell_type": "markdown",
   "metadata": {},
   "source": [
    "To analyse the response time, we can calculate the speed at which Y reaches its half-maximal point starting from 0 concentration."
   ]
  },
  {
   "cell_type": "markdown",
   "metadata": {},
   "source": [
    "### Programming setup"
   ]
  },
  {
   "cell_type": "markdown",
   "metadata": {},
   "source": [
    "Here we will be using the custom Design of Experiments(doe) tool that can be found in doe_tool.py file"
   ]
  },
  {
   "cell_type": "code",
   "execution_count": 73,
   "metadata": {},
   "outputs": [],
   "source": [
    "pars_of_interest = ('alpha', 'beta')\n",
    "def simulation(factors):\n",
    "    \"\"\"\n",
    "    Returns approximate response time of reaching half-maximal value of Y\n",
    "    event: tuple\n",
    "        (id of parameter, new parameter value)\n",
    "    \"\"\"\n",
    "    r.resetAll()\n",
    "    for factor, id in zip(factors, pars_of_interest):\n",
    "        r[id] = factor\n",
    "    data = r.simulate(START, END, NUM_PTS)\n",
    "\n",
    "    # extract last value in dataset, divide by 2 and find location of closest value in said dataset\n",
    "    halfmax = (data['[Y]'][-1])/2\n",
    "    return data['time'][np.argmin(abs(data['[Y]'] - halfmax))]\n",
    "    # return data['[Y]']-halfmax"
   ]
  },
  {
   "cell_type": "code",
   "execution_count": 74,
   "metadata": {},
   "outputs": [
    {
     "data": {
      "text/plain": [
       "7.070707070707071"
      ]
     },
     "execution_count": 74,
     "metadata": {},
     "output_type": "execute_result"
    }
   ],
   "source": [
    "test = simulation((0.1,1))\n",
    "test"
   ]
  },
  {
   "cell_type": "code",
   "execution_count": 75,
   "metadata": {},
   "outputs": [],
   "source": [
    "doe = utils.doe_tool(simulation, factor_names=pars_of_interest, initial_values= [1, 1])"
   ]
  },
  {
   "cell_type": "markdown",
   "metadata": {},
   "source": [
    "The deviations used are percent deviations from the initial values set in the model"
   ]
  },
  {
   "cell_type": "code",
   "execution_count": 76,
   "metadata": {},
   "outputs": [],
   "source": [
    "deviations = range(-90, 100, 10)"
   ]
  },
  {
   "cell_type": "code",
   "execution_count": 77,
   "metadata": {},
   "outputs": [],
   "source": [
    "# calculations for alpha, then same for beta in the next cell\n",
    "doe.reset()\n",
    "doe.runOneFactorStudy({'alpha': deviations}, initial_values=INITIAL_VALUES)\n",
    "y_a = doe.getResults()\n",
    "x_a = [el[0] for el in doe.getTracker()]"
   ]
  },
  {
   "cell_type": "code",
   "execution_count": 78,
   "metadata": {},
   "outputs": [],
   "source": [
    "doe.reset()\n",
    "doe.runOneFactorStudy({'beta': deviations}, initial_values=INITIAL_VALUES)\n",
    "y_b = doe.getResults()\n",
    "x_b = [el[1] for el in doe.getTracker()]"
   ]
  },
  {
   "cell_type": "markdown",
   "metadata": {},
   "source": [
    "### Tables and analysis"
   ]
  },
  {
   "cell_type": "code",
   "execution_count": 84,
   "metadata": {},
   "outputs": [
    {
     "data": {
      "image/png": "[encoded data removed]",
      "text/plain": [
       "<Figure size 432x288 with 1 Axes>"
      ]
     },
     "metadata": {
      "needs_background": "light"
     },
     "output_type": "display_data"
    }
   ],
   "source": [
    "fig, ax = plt.subplots()\n",
    "ax.plot(x_a, y_a, label='alpha')\n",
    "ax.plot(x_b, y_b, label='beta')\n",
    "plt.legend()\n",
    "\n",
    "_ = ax.set(xlabel='rate of reaction', ylabel='time to reach half-maximal(sec)',\n",
    "       title='effect of parameters on response time')\n"
   ]
  },
  {
   "cell_type": "markdown",
   "metadata": {},
   "source": [
    "From the following rough plot, we can see that, as expected, the response time in SID cases is only dependant on the alpha (rate of removal) in an inverse propotionality fasion."
   ]
  },
  {
   "cell_type": "code",
   "execution_count": null,
   "metadata": {},
   "outputs": [],
   "source": []
  }
 ],
 "metadata": {
  "kernelspec": {
   "display_name": "Python 3.7.7 ('capstone')",
   "language": "python",
   "name": "python3"
  },
  "language_info": {
   "codemirror_mode": {
    "name": "ipython",
    "version": 3
   },
   "file_extension": ".py",
   "mimetype": "text/x-python",
   "name": "python",
   "nbconvert_exporter": "python",
   "pygments_lexer": "ipython3",
   "version": "3.7.7"
  },
  "orig_nbformat": 4,
  "vscode": {
   "interpreter": {
    "hash": "13d282f2ada5d8b5f0d90b9baa94c600578448224d2e503d050296fe6bd7f0bf"
   }
  }
 },
 "nbformat": 4,
 "nbformat_minor": 2
}
